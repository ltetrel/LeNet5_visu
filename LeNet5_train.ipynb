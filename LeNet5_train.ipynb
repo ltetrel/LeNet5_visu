{
 "cells": [
  {
   "cell_type": "code",
   "execution_count": null,
   "metadata": {},
   "outputs": [],
   "source": [
    "import tensorflow as tf\n",
    "import numpy as np"
   ]
  },
  {
   "cell_type": "code",
   "execution_count": null,
   "metadata": {},
   "outputs": [],
   "source": [
    "# loading mnist\n",
    "(x_train, y_train),(x_test, y_test) = tf.keras.datasets.mnist.load_data()\n",
    "\n",
    "img_rows = x_train.shape[1]\n",
    "img_cols = x_train.shape[2]\n",
    "in_shape = (1, img_rows, img_cols)\n",
    "\n",
    "#preprocessing data\n",
    "x_train = x_train.reshape(x_train.shape[0], 1, img_rows, img_cols)\n",
    "x_test = x_test.reshape(x_test.shape[0], 1, img_rows, img_cols)\n",
    "x_train = x_train.astype('float32')/255\n",
    "x_test = x_test.astype('float32')/255\n",
    "\n",
    "print('x_train shape:', x_train.shape)\n",
    "print(x_train.shape[0], 'train samples')\n",
    "print(x_test.shape[0], 'test samples')\n",
    "\n",
    "nb_classes = len(np.unique(y_test))\n",
    "\n",
    "# To ensure dimension ordering\n",
    "tf.keras.backend.set_image_data_format('channels_first')"
   ]
  },
  {
   "cell_type": "code",
   "execution_count": null,
   "metadata": {},
   "outputs": [],
   "source": [
    "leNet5 = tf.keras.models.Sequential()\n",
    "\n",
    "# Feature extraction\n",
    "leNet5.add(tf.keras.layers.Conv2D(input_shape=in_shape, filters=20, kernel_size=(5, 5), activation=tf.nn.relu))\n",
    "leNet5.add(tf.keras.layers.MaxPooling2D(pool_size=(2, 2), strides=(2, 2)))\n",
    "leNet5.add(tf.keras.layers.Conv2D(input_shape=in_shape, filters=50, kernel_size=(3, 3), activation=tf.nn.relu))\n",
    "leNet5.add(tf.keras.layers.MaxPooling2D(pool_size=(2, 2), strides=(2, 2)))\n",
    "\n",
    "# Classification\n",
    "#leNet5.add(tf.keras.layers.Dropout(0.25))\n",
    "leNet5.add(tf.keras.layers.Flatten())\n",
    "leNet5.add(tf.keras.layers.Dense(units=500, activation=tf.nn.relu))\n",
    "#leNet5.add(tf.keras.layers.Dropout(0.5))\n",
    "leNet5.add(tf.keras.layers.Dense(units=nb_classes, activation=tf.nn.softmax))\n",
    "\n",
    "# Optimizer\n",
    "opt = tf.keras.optimizers.SGD(lr=0.01)\n",
    "leNet5.compile(optimizer=opt,\n",
    "              loss='sparse_categorical_crossentropy',\n",
    "              metrics=['accuracy'])\n",
    "\n",
    "# Training\n",
    "leNet5.fit(x_train, y_train, batch_size=128, epochs=5, verbose=1)\n",
    "\n",
    "# Testing\n",
    "leNet5.evaluate(x_test, y_test, batch_size=128, verbose=1)\n"
   ]
  },
  {
   "cell_type": "code",
   "execution_count": null,
   "metadata": {},
   "outputs": [],
   "source": [
    "# Saving the model\n",
    "sess = tf.keras.backend.get_session()\n",
    "tf.train.Saver().save(sess, \"/notebooks/yu_gpu_cpu_profile/LeNetVisu/LeNet5\")"
   ]
  },
  {
   "cell_type": "code",
   "execution_count": null,
   "metadata": {},
   "outputs": [],
   "source": [
    "leNet5.layers[0].get_weights()[0]"
   ]
  },
  {
   "cell_type": "code",
   "execution_count": null,
   "metadata": {},
   "outputs": [],
   "source": [
    "leNet5.input"
   ]
  },
  {
   "cell_type": "code",
   "execution_count": null,
   "metadata": {},
   "outputs": [],
   "source": [
    "leNet5.predict(x_test[0:1,:,:,:])"
   ]
  }
 ],
 "metadata": {
  "kernelspec": {
   "display_name": "Python 3",
   "language": "python",
   "name": "python3"
  },
  "language_info": {
   "codemirror_mode": {
    "name": "ipython",
    "version": 3
   },
   "file_extension": ".py",
   "mimetype": "text/x-python",
   "name": "python",
   "nbconvert_exporter": "python",
   "pygments_lexer": "ipython3",
   "version": "3.5.2"
  }
 },
 "nbformat": 4,
 "nbformat_minor": 2
}
